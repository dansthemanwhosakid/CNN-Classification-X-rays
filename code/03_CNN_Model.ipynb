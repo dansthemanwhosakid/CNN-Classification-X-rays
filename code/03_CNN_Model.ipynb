{
 "cells": [
  {
   "cell_type": "markdown",
   "metadata": {},
   "source": [
    "# Notebook 3: CNN Model\n",
    "\n",
    "The objective of this project is to create an image classification model by classifying x-rays whether someone has pneumonia or not. The tutorial I followed to run a convolutional neural network to identify whether one has pneumonia or not can be found from [tensorflow.com](https://www.tensorflow.org/tutorials/images/classification)\n",
    "\n"
   ]
  },
  {
   "cell_type": "code",
   "execution_count": 1,
   "metadata": {},
   "outputs": [],
   "source": [
    "import glob\n",
    "import sys\n",
    "import os\n",
    "import shutil\n",
    "import matplotlib.pyplot as plt\n",
    "import numpy as np\n",
    "import pandas as pd\n",
    "from PIL import Image\n",
    "\n",
    "import tensorflow as tf\n",
    "from tensorflow.keras.models import Sequential\n",
    "from tensorflow.keras.layers import Dense, Conv2D, Flatten, Dropout, MaxPooling2D\n",
    "from tensorflow.keras.preprocessing.image import ImageDataGenerator\n",
    "\n",
    "# For reproducible results:\n",
    "from numpy.random import seed\n",
    "seed(1)\n",
    "%matplotlib inline"
   ]
  },
  {
   "cell_type": "markdown",
   "metadata": {},
   "source": [
    "The dataset has the following directory structure:\n",
    "\n",
    "<pre>\n",
    "<b>data</b>\n",
    "|__ <b>train</b>\n",
    "    |______ <b>PNEUMONIA</b>: [pneumonia_0.jpg, pneumonia_1.jpg, pneumonia_2.jpg ....]\n",
    "    |______ <b>NORMAL</b>: [normal_0.jpg, normal_1.jpg, normal_2.jpg ...]\n",
    "|__ <b>test</b>\n",
    "    |______ <b>PNEUMONIA</b>: [pneumonia_0.jpg, pneumonia_1.jpg, pneumonia_2.jpg ....]\n",
    "    |______ <b>NORMAL</b>: [normal_0.jpg, normal_1.jpg, normal_2.jpg ...]\n",
    "</pre>"
   ]
  },
  {
   "cell_type": "code",
   "execution_count": 2,
   "metadata": {
    "scrolled": true
   },
   "outputs": [
    {
     "name": "stdout",
     "output_type": "stream",
     "text": [
      "Total training normal images: 1341\n",
      "Total training pneumonia images: 3875\n",
      "Total test normal images: 242\n",
      "Total train normal images: 398\n",
      "--\n",
      "Total training images: 5216\n",
      "Total test images: 640\n"
     ]
    }
   ],
   "source": [
    "train_directory = '../data/train/'\n",
    "test_directory = '../data/test/'\n",
    "\n",
    "normal_tr = glob.glob('../data/train/NORMAL/*.jpeg')\n",
    "pneumonia_tr = glob.glob('../data/train/PNEUMONIA/*.jpeg')\n",
    "\n",
    "normal_test = glob.glob('../data/test/NORMAL/*.jpeg')\n",
    "pneumonia_test = glob.glob('../data/test/PNEUMONIA/*.jpeg')\n",
    "\n",
    "\n",
    "print(f\"Total training normal images: {len(normal_tr)}\")\n",
    "print(f\"Total training pneumonia images: {len(pneumonia_tr)}\")\n",
    "print(f\"Total test normal images: {len(normal_test)}\")\n",
    "print(f\"Total train normal images: {len(pneumonia_test)}\")\n",
    "print(\"--\")\n",
    "print(\"Total training images:\", len(glob.glob('../data/train/*/*.jpeg')))\n",
    "print(\"Total test images:\", len(glob.glob('../data/test/*/*.jpeg')))"
   ]
  },
  {
   "cell_type": "markdown",
   "metadata": {},
   "source": [
    "Loading `train_data` and `test_data` which are the images transformed into floating point tensors."
   ]
  },
  {
   "cell_type": "code",
   "execution_count": 3,
   "metadata": {},
   "outputs": [
    {
     "name": "stdout",
     "output_type": "stream",
     "text": [
      "Found 5216 images belonging to 2 classes.\n",
      "Found 640 images belonging to 2 classes.\n"
     ]
    }
   ],
   "source": [
    "%run '../assets/tensor_data.py'"
   ]
  },
  {
   "cell_type": "code",
   "execution_count": 4,
   "metadata": {},
   "outputs": [
    {
     "name": "stdout",
     "output_type": "stream",
     "text": [
      "train_data and test_data have successfully been imported.\n"
     ]
    }
   ],
   "source": [
    "# These are the usual ipython objects, including this one you are creating\n",
    "ipython_vars = ['In', 'Out', 'exit', 'quit', 'get_ipython', 'ipython_vars']\n",
    "# list of objects\n",
    "variables = [x for x in dir() if not x.startswith('_') and x not in sys.modules and x not in ipython_vars]\n",
    "\n",
    "if 'train_data' in variables and 'test_data' in variables:\n",
    "    print('train_data and test_data have successfully been imported.')\n",
    "else:\n",
    "    print('train_data and test_data have not been imported.')"
   ]
  },
  {
   "cell_type": "markdown",
   "metadata": {},
   "source": [
    "## Convolutional Neural Network\n",
    "\n",
    "Keras' Convolutional Neural Network model was implemented to classify whether a patient has pneumonia. There are 9 layers that consist of multiple **convolutional 2D layers**, **max pooling layers**, and a single **flatten layer**. A CNN is used to capture the spatial distributions in an image by applying the aforementioned filters. \n",
    "\n",
    "The first Conv2D is the input layer which takes in the images that have been converted to 224x224x3 floating point tensors."
   ]
  },
  {
   "cell_type": "code",
   "execution_count": 5,
   "metadata": {},
   "outputs": [],
   "source": [
    "model = Sequential([\n",
    "    Conv2D(16, 3, padding='same', activation='relu', input_shape=(224, 224 ,3)),\n",
    "    MaxPooling2D(),\n",
    "    Conv2D(32, 3, padding='same', activation='relu'),\n",
    "    MaxPooling2D(),\n",
    "    Conv2D(64, 3, padding='same', activation='relu'),\n",
    "    MaxPooling2D(),\n",
    "    Flatten(),\n",
    "    Dense(512, activation='relu'),\n",
    "    Dense(1, activation='sigmoid')\n",
    "])\n",
    "\n",
    "model.compile(optimizer='adam',\n",
    "              loss='binary_crossentropy',\n",
    "              metrics=['accuracy'])"
   ]
  },
  {
   "cell_type": "code",
   "execution_count": 6,
   "metadata": {},
   "outputs": [],
   "source": [
    "batch_size = 128\n",
    "epochs = 15"
   ]
  },
  {
   "cell_type": "code",
   "execution_count": 7,
   "metadata": {},
   "outputs": [],
   "source": [
    "total_train_images = len(glob.glob('../data/train/*/*.jpeg'))\n",
    "total_test_images = len(glob.glob('../data/test/*/*.jpeg'))\n"
   ]
  },
  {
   "cell_type": "code",
   "execution_count": 8,
   "metadata": {},
   "outputs": [
    {
     "name": "stdout",
     "output_type": "stream",
     "text": [
      "Epoch 1/15\n",
      "40/40 [==============================] - 85s 2s/step - loss: 0.5011 - accuracy: 0.7648 - val_loss: 0.4289 - val_accuracy: 0.8000\n",
      "Epoch 2/15\n",
      "40/40 [==============================] - 72s 2s/step - loss: 0.3883 - accuracy: 0.8195 - val_loss: 0.3445 - val_accuracy: 0.8438\n",
      "Epoch 3/15\n",
      "40/40 [==============================] - 105s 3s/step - loss: 0.3094 - accuracy: 0.8719 - val_loss: 0.3856 - val_accuracy: 0.8188\n",
      "Epoch 4/15\n",
      "40/40 [==============================] - 92s 2s/step - loss: 0.2960 - accuracy: 0.8687 - val_loss: 0.3567 - val_accuracy: 0.8313\n",
      "Epoch 5/15\n",
      "40/40 [==============================] - 92s 2s/step - loss: 0.2497 - accuracy: 0.8938 - val_loss: 0.2603 - val_accuracy: 0.8938\n",
      "Epoch 6/15\n",
      "40/40 [==============================] - 97s 2s/step - loss: 0.2556 - accuracy: 0.8938 - val_loss: 0.2268 - val_accuracy: 0.8938\n",
      "Epoch 7/15\n",
      "40/40 [==============================] - 73s 2s/step - loss: 0.2488 - accuracy: 0.8922 - val_loss: 0.2092 - val_accuracy: 0.9187\n",
      "Epoch 8/15\n",
      "40/40 [==============================] - 74s 2s/step - loss: 0.2822 - accuracy: 0.8813 - val_loss: 0.2688 - val_accuracy: 0.8687\n",
      "Epoch 9/15\n",
      "40/40 [==============================] - 93s 2s/step - loss: 0.2160 - accuracy: 0.9094 - val_loss: 0.2821 - val_accuracy: 0.9000\n",
      "Epoch 10/15\n",
      "40/40 [==============================] - 79s 2s/step - loss: 0.2035 - accuracy: 0.9117 - val_loss: 0.2717 - val_accuracy: 0.8875\n",
      "Epoch 11/15\n",
      "40/40 [==============================] - 81s 2s/step - loss: 0.2407 - accuracy: 0.9078 - val_loss: 0.2681 - val_accuracy: 0.8875\n",
      "Epoch 12/15\n",
      "40/40 [==============================] - 88s 2s/step - loss: 0.2182 - accuracy: 0.9164 - val_loss: 0.2985 - val_accuracy: 0.8938\n",
      "Epoch 13/15\n",
      "40/40 [==============================] - 88s 2s/step - loss: 0.2325 - accuracy: 0.9203 - val_loss: 0.1633 - val_accuracy: 0.9250\n",
      "Epoch 14/15\n",
      "40/40 [==============================] - 74s 2s/step - loss: 0.2051 - accuracy: 0.9203 - val_loss: 0.1465 - val_accuracy: 0.9312\n",
      "Epoch 15/15\n",
      "40/40 [==============================] - 71s 2s/step - loss: 0.1896 - accuracy: 0.9219 - val_loss: 0.1196 - val_accuracy: 0.9438\n"
     ]
    }
   ],
   "source": [
    "history = model.fit_generator(\n",
    "    train_data,\n",
    "    steps_per_epoch = total_train_images // batch_size,\n",
    "    epochs = epochs,\n",
    "    validation_data = train_data,\n",
    "    validation_steps = total_test_images // batch_size\n",
    ")"
   ]
  },
  {
   "cell_type": "code",
   "execution_count": 9,
   "metadata": {},
   "outputs": [
    {
     "data": {
      "image/png": "[encoded data removed]",
      "text/plain": [
       "<Figure size 576x576 with 2 Axes>"
      ]
     },
     "metadata": {
      "needs_background": "light"
     },
     "output_type": "display_data"
    }
   ],
   "source": [
    "acc = history.history['accuracy']\n",
    "val_acc = history.history['val_accuracy']\n",
    "\n",
    "loss = history.history['loss']\n",
    "val_loss = history.history['val_loss']\n",
    "\n",
    "epochs_range = range(epochs)\n",
    "\n",
    "plt.figure(figsize=(8, 8))\n",
    "plt.subplot(1, 2, 1)\n",
    "plt.plot(epochs_range, acc, label='Training Accuracy')\n",
    "plt.plot(epochs_range, val_acc, label='Validation Accuracy')\n",
    "plt.legend(loc='lower right')\n",
    "plt.title('Training and Validation Accuracy')\n",
    "\n",
    "plt.subplot(1, 2, 2)\n",
    "plt.plot(epochs_range, loss, label='Training Loss')\n",
    "plt.plot(epochs_range, val_loss, label='Validation Loss')\n",
    "plt.legend(loc='upper right')\n",
    "plt.title('Training and Validation Loss')\n",
    "plt.show()"
   ]
  },
  {
   "cell_type": "code",
   "execution_count": 10,
   "metadata": {},
   "outputs": [],
   "source": [
    "y_pred = model.predict(train_data)"
   ]
  },
  {
   "cell_type": "code",
   "execution_count": 17,
   "metadata": {},
   "outputs": [
    {
     "data": {
      "text/plain": [
       "array([0.04389518, 0.99996614, 0.9920723 , ..., 0.99749625, 0.99981433,\n",
       "       0.99675846], dtype=float32)"
      ]
     },
     "execution_count": 17,
     "metadata": {},
     "output_type": "execute_result"
    }
   ],
   "source": [
    "y_pred[:,0]"
   ]
  },
  {
   "cell_type": "code",
   "execution_count": null,
   "metadata": {},
   "outputs": [],
   "source": []
  }
 ],
 "metadata": {
  "kernelspec": {
   "display_name": "Python 3",
   "language": "python",
   "name": "python3"
  },
  "language_info": {
   "codemirror_mode": {
    "name": "ipython",
    "version": 3
   },
   "file_extension": ".py",
   "mimetype": "text/x-python",
   "name": "python",
   "nbconvert_exporter": "python",
   "pygments_lexer": "ipython3",
   "version": "3.7.4"
  }
 },
 "nbformat": 4,
 "nbformat_minor": 2
}
