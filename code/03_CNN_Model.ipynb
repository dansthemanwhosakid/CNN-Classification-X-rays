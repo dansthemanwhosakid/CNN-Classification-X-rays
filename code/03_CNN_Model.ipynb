{
 "cells": [
  {
   "cell_type": "markdown",
   "metadata": {},
   "source": [
    "# Notebook 3: CNN Model\n",
    "\n",
    "The objective of this project is to create an image classification model by classifying x-rays whether someone has pneumonia or not. The tutorial I followed to run a convolutional neural network to identify whether one has pneumonia or not can be found from [tensorflow.com](https://www.tensorflow.org/tutorials/images/classification)\n",
    "\n"
   ]
  },
  {
   "cell_type": "code",
   "execution_count": 163,
   "metadata": {},
   "outputs": [],
   "source": [
    "import glob\n",
    "import sys\n",
    "import os\n",
    "import shutil\n",
    "import matplotlib.pyplot as plt\n",
    "import numpy as np\n",
    "import pandas as pd\n",
    "from PIL import Image\n",
    "\n",
    "import tensorflow as tf\n",
    "from tensorflow.keras.models import Sequential\n",
    "from tensorflow.keras.layers import Dense, Conv2D, Flatten, Dropout, MaxPooling2D, SeparableConv2D\n",
    "from tensorflow.keras.preprocessing.image import ImageDataGenerator\n",
    "from sklearn.metrics import confusion_matrix, accuracy_score, recall_score\n",
    "# For reproducible results:\n",
    "from numpy.random import seed\n",
    "seed(1)\n",
    "%matplotlib inline"
   ]
  },
  {
   "cell_type": "markdown",
   "metadata": {},
   "source": [
    "The dataset has the following directory structure:\n",
    "\n",
    "<pre>\n",
    "<b>data</b>\n",
    "|__ <b>train</b>\n",
    "    |______ <b>PNEUMONIA</b>: [pneumonia_0.jpg, pneumonia_1.jpg, pneumonia_2.jpg ....]\n",
    "    |______ <b>NORMAL</b>: [normal_0.jpg, normal_1.jpg, normal_2.jpg ...]\n",
    "|__ <b>test</b>\n",
    "    |______ <b>PNEUMONIA</b>: [pneumonia_0.jpg, pneumonia_1.jpg, pneumonia_2.jpg ....]\n",
    "    |______ <b>NORMAL</b>: [normal_0.jpg, normal_1.jpg, normal_2.jpg ...]\n",
    "</pre>"
   ]
  },
  {
   "cell_type": "code",
   "execution_count": 2,
   "metadata": {
    "scrolled": true
   },
   "outputs": [
    {
     "name": "stdout",
     "output_type": "stream",
     "text": [
      "Total training normal images: 1341\n",
      "Total training pneumonia images: 3875\n",
      "Total test normal images: 242\n",
      "Total train normal images: 398\n",
      "--\n",
      "Total training images: 5216\n",
      "Total test images: 640\n"
     ]
    }
   ],
   "source": [
    "train_directory = '../data/train/'\n",
    "test_directory = '../data/test/'\n",
    "\n",
    "normal_tr = glob.glob('../data/train/NORMAL/*.jpeg')\n",
    "pneumonia_tr = glob.glob('../data/train/PNEUMONIA/*.jpeg')\n",
    "\n",
    "normal_test = glob.glob('../data/test/NORMAL/*.jpeg')\n",
    "pneumonia_test = glob.glob('../data/test/PNEUMONIA/*.jpeg')\n",
    "\n",
    "\n",
    "print(f\"Total training normal images: {len(normal_tr)}\")\n",
    "print(f\"Total training pneumonia images: {len(pneumonia_tr)}\")\n",
    "print(f\"Total test normal images: {len(normal_test)}\")\n",
    "print(f\"Total train normal images: {len(pneumonia_test)}\")\n",
    "print(\"--\")\n",
    "print(\"Total training images:\", len(glob.glob('../data/train/*/*.jpeg')))\n",
    "print(\"Total test images:\", len(glob.glob('../data/test/*/*.jpeg')))"
   ]
  },
  {
   "cell_type": "markdown",
   "metadata": {},
   "source": [
    "Loading `train_data` and `test_data` which are the images transformed into floating point tensors."
   ]
  },
  {
   "cell_type": "code",
   "execution_count": 3,
   "metadata": {},
   "outputs": [
    {
     "name": "stdout",
     "output_type": "stream",
     "text": [
      "Found 5216 images belonging to 2 classes.\n",
      "Found 640 images belonging to 2 classes.\n"
     ]
    }
   ],
   "source": [
    "%run '../assets/tensor_data.py'"
   ]
  },
  {
   "cell_type": "code",
   "execution_count": 4,
   "metadata": {},
   "outputs": [
    {
     "name": "stdout",
     "output_type": "stream",
     "text": [
      "train_data and test_data have successfully been imported.\n"
     ]
    }
   ],
   "source": [
    "# These are the usual ipython objects, including this one you are creating\n",
    "ipython_vars = ['In', 'Out', 'exit', 'quit', 'get_ipython', 'ipython_vars']\n",
    "# list of objects\n",
    "variables = [x for x in dir() if not x.startswith('_') and x not in sys.modules and x not in ipython_vars]\n",
    "\n",
    "if 'train_data' in variables and 'test_data' in variables:\n",
    "    print('train_data and test_data have successfully been imported.')\n",
    "else:\n",
    "    print('train_data and test_data have not been imported.')"
   ]
  },
  {
   "cell_type": "markdown",
   "metadata": {},
   "source": [
    "## Convolutional Neural Network\n",
    "\n",
    "#### Building the Model\n",
    "\n",
    "Keras' Convolutional Neural Network model was implemented to classify whether a patient has pneumonia. There are 9 layers: **convolutional 2D layers**, **max pooling layers**, a single **flatten layer**, and **dense layers**. A CNN is used to capture the spatial distributions in an image by applying the aforementioned filters. \n",
    "\n",
    "**Conv2D Layer** is a set of learnable filters. Using the kernel filter, each filter transforms a part of the image to transform parts of the image. Conv2D also has two padding options:\n",
    "1. Valid Padding - reduces convolved feature dimensionality\n",
    "2. Same Padding - either increases or leaves the dimensionality alone.\n",
    "\n",
    "Essentially, the first Conv2D layer captures low-level features such as the images' edges, colors, and gradient orientation. \n",
    "\n",
    "Added Conv2D layers allow the model to learn high-level features such as identifying the ribs and lungs in the images.\n",
    "\n",
    "**Max Pooling Layers** reduce the spatial size of the convolved features and returns the max value from the portion of the image covered by the kernel for three reasons:\n",
    "1. Decrease the computation power to process the data by dimensionality reduction\n",
    "2. Extract dominant features by training the model\n",
    "3. Reduce noise\n",
    "\n",
    "**Dropout** is a regularization method that reduces overfitting by dropping a random proportion of nodes in the layer by setting their weights to 0. The randomly dropped nodes force the model to learn features in more generalized way.\n",
    "\n",
    "**Flatten Layer** converts all of the learned features from the previous convolutional layers to a format that can be used by the densely connected neural layer\n",
    "\n",
    "**Dense Layers** are used to generate the final prediction. It takes in the number of output nodes and has an activation function which we will use the sigmoid activation function. The values for the sigmoid range between 0 and 1 that allows the model to perform a binary classification. \n",
    "\n",
    "The first Conv2D is the input layer which takes in the images that have been converted to 224x224x3 floating point tensors.\n",
    "\n",
    "`ReLu` (recified linear unit) is used as the activation function max(0,x) for the convolutional 2D layers. Essentially, until a threshold is hit, it doesn't activate!\n",
    "\n",
    "[source](https://missinglink.ai/guides/keras/using-keras-flatten-operation-cnn-models-code-examples/)"
   ]
  },
  {
   "cell_type": "code",
   "execution_count": 5,
   "metadata": {},
   "outputs": [],
   "source": [
    "model = Sequential([\n",
    "    Conv2D(16, 3, padding='same', activation='relu', input_shape=(224, 224 ,3)),\n",
    "    MaxPooling2D(),\n",
    "    Conv2D(32, 3, padding='same', activation='relu'),\n",
    "    MaxPooling2D(),\n",
    "    Conv2D(64, 3, padding='same', activation='relu'),\n",
    "    MaxPooling2D(),\n",
    "    Flatten(),\n",
    "    Dense(512, activation='relu'),\n",
    "    Dense(1, activation='sigmoid')\n",
    "])"
   ]
  },
  {
   "cell_type": "markdown",
   "metadata": {},
   "source": [
    "#### Compiling the Model\n",
    "\n",
    "The compile function has 3 parameters:\n",
    "1. `optimizer` - controls the learning rate which defines how fast optimal weights for the model are calculated. We will use 'adam'\n",
    "2. `loss` - defines the loss function which measures how far off the model's predictions are from the actual values. We will use binary crossentropy because we are predicting binary values. \n",
    "3. `metrics` - we will use the accuracy score to measure the rate of how well the model predicts correct classifications.\n",
    "\n",
    "[source](https://missinglink.ai/guides/neural-network-concepts/convolutional-neural-network-build-one-keras-pytorch/)"
   ]
  },
  {
   "cell_type": "code",
   "execution_count": 6,
   "metadata": {},
   "outputs": [],
   "source": [
    "model.compile(optimizer='adam',\n",
    "              loss='binary_crossentropy',\n",
    "              metrics=['accuracy'])"
   ]
  },
  {
   "cell_type": "markdown",
   "metadata": {},
   "source": [
    "#### Selecting Batch Size and Epochs\n",
    "Batch size and epochs are hyperparameters for neural networks.\n",
    "\n",
    "An `epoch` is one forward and backward pass of all the training examples.\n",
    "\n",
    "A `batch` is the number of training examples in one forward/backward pass. The higher the batch size, the more memory space it occupies. Popular batch sizes are 32, 64, and 128.\n",
    "\n",
    "The number of `iterations` is the number of batch sizes used to complete one epoch. \n",
    "\n",
    "I am going to run 20 epochs with batch sizes of 128. Essentially, I am giving my model 20 chances to learn patterns about the images.\n",
    "\n",
    "\n",
    "[source](https://stackoverflow.com/questions/4752626/epoch-vs-iteration-when-training-neural-networks)"
   ]
  },
  {
   "cell_type": "code",
   "execution_count": 7,
   "metadata": {},
   "outputs": [],
   "source": [
    "epochs = 20\n",
    "batch_size = 128"
   ]
  },
  {
   "cell_type": "code",
   "execution_count": 8,
   "metadata": {},
   "outputs": [],
   "source": [
    "total_train_images = len(glob.glob('../data/train/*/*.jpeg'))\n",
    "total_test_images = len(glob.glob('../data/test/*/*.jpeg'))"
   ]
  },
  {
   "cell_type": "code",
   "execution_count": 9,
   "metadata": {},
   "outputs": [
    {
     "name": "stdout",
     "output_type": "stream",
     "text": [
      "Epoch 1/20\n",
      "40/40 [==============================] - 60s 1s/step - loss: 0.6292 - accuracy: 0.7383 - val_loss: 0.4587 - val_accuracy: 0.7437\n",
      "Epoch 2/20\n",
      "40/40 [==============================] - 57s 1s/step - loss: 0.3325 - accuracy: 0.8500 - val_loss: 0.3156 - val_accuracy: 0.8375\n",
      "Epoch 3/20\n",
      "40/40 [==============================] - 58s 1s/step - loss: 0.3283 - accuracy: 0.8414 - val_loss: 0.3034 - val_accuracy: 0.8438\n",
      "Epoch 4/20\n",
      "40/40 [==============================] - 64s 2s/step - loss: 0.2960 - accuracy: 0.8711 - val_loss: 0.3505 - val_accuracy: 0.8313\n",
      "Epoch 5/20\n",
      "40/40 [==============================] - 62s 2s/step - loss: 0.2716 - accuracy: 0.8836 - val_loss: 0.2819 - val_accuracy: 0.8813\n",
      "Epoch 6/20\n",
      "40/40 [==============================] - 59s 1s/step - loss: 0.2724 - accuracy: 0.8805 - val_loss: 0.2390 - val_accuracy: 0.9062\n",
      "Epoch 7/20\n",
      "40/40 [==============================] - 67s 2s/step - loss: 0.2787 - accuracy: 0.8930 - val_loss: 0.2229 - val_accuracy: 0.9375\n",
      "Epoch 8/20\n",
      "40/40 [==============================] - 70s 2s/step - loss: 0.2194 - accuracy: 0.9094 - val_loss: 0.1845 - val_accuracy: 0.9187\n",
      "Epoch 9/20\n",
      "40/40 [==============================] - 74s 2s/step - loss: 0.2614 - accuracy: 0.8891 - val_loss: 0.2868 - val_accuracy: 0.9000\n",
      "Epoch 10/20\n",
      "40/40 [==============================] - 59s 1s/step - loss: 0.2278 - accuracy: 0.9000 - val_loss: 0.3085 - val_accuracy: 0.9062\n",
      "Epoch 11/20\n",
      "40/40 [==============================] - 65s 2s/step - loss: 0.2529 - accuracy: 0.9008 - val_loss: 0.2667 - val_accuracy: 0.8687\n",
      "Epoch 12/20\n",
      "40/40 [==============================] - 58s 1s/step - loss: 0.2029 - accuracy: 0.9148 - val_loss: 0.3848 - val_accuracy: 0.8438\n",
      "Epoch 13/20\n",
      "40/40 [==============================] - 58s 1s/step - loss: 0.2067 - accuracy: 0.9180 - val_loss: 0.1293 - val_accuracy: 0.9563\n",
      "Epoch 14/20\n",
      "40/40 [==============================] - 67s 2s/step - loss: 0.2405 - accuracy: 0.8969 - val_loss: 0.1570 - val_accuracy: 0.9312\n",
      "Epoch 15/20\n",
      "40/40 [==============================] - 66s 2s/step - loss: 0.1976 - accuracy: 0.9164 - val_loss: 0.1676 - val_accuracy: 0.9250\n",
      "Epoch 16/20\n",
      "40/40 [==============================] - 59s 1s/step - loss: 0.2051 - accuracy: 0.9187 - val_loss: 0.1368 - val_accuracy: 0.9625\n",
      "Epoch 17/20\n",
      "40/40 [==============================] - 59s 1s/step - loss: 0.2067 - accuracy: 0.9086 - val_loss: 0.1550 - val_accuracy: 0.9563\n",
      "Epoch 18/20\n",
      "40/40 [==============================] - 59s 1s/step - loss: 0.2297 - accuracy: 0.9141 - val_loss: 0.2394 - val_accuracy: 0.9250\n",
      "Epoch 19/20\n",
      "40/40 [==============================] - 62s 2s/step - loss: 0.2010 - accuracy: 0.9187 - val_loss: 0.1640 - val_accuracy: 0.9438\n",
      "Epoch 20/20\n",
      "40/40 [==============================] - 60s 2s/step - loss: 0.1996 - accuracy: 0.9133 - val_loss: 0.2011 - val_accuracy: 0.9000\n"
     ]
    }
   ],
   "source": [
    "history = model.fit_generator(\n",
    "    train_data,\n",
    "    steps_per_epoch = total_train_images // batch_size,\n",
    "    epochs = epochs,\n",
    "    validation_data = test_data,\n",
    "    validation_steps = total_test_images // batch_size,\n",
    "    verbose = 1\n",
    ")"
   ]
  },
  {
   "cell_type": "markdown",
   "metadata": {},
   "source": [
    "#### Evaluating the Model\n",
    "Now I am going to evaluate how well the model performed by examining the loss function and accuracy metric."
   ]
  },
  {
   "cell_type": "code",
   "execution_count": 42,
   "metadata": {},
   "outputs": [
    {
     "data": {
      "image/png": "[encoded data removed]",
      "text/plain": [
       "<Figure size 1440x576 with 2 Axes>"
      ]
     },
     "metadata": {
      "needs_background": "light"
     },
     "output_type": "display_data"
    }
   ],
   "source": [
    "acc = history.history['accuracy']\n",
    "val_acc = history.history['val_accuracy']\n",
    "\n",
    "loss = history.history['loss']\n",
    "val_loss = history.history['val_loss']\n",
    "\n",
    "epochs_range = range(epochs)\n",
    "\n",
    "plt.figure(figsize=(20, 8))\n",
    "plt.subplot(1, 2, 1)\n",
    "plt.plot(epochs_range, acc, label='Training Accuracy', color = 'purple', linewidth = 3)\n",
    "plt.plot(epochs_range, val_acc, label='Validation Accuracy', color = 'orange', linewidth = 3)\n",
    "plt.legend(loc='lower right', prop={'size': 15})\n",
    "plt.title('Training and Validation Accuracy', fontsize = 20)\n",
    "plt.xlabel('Epochs', fontsize = 15)\n",
    "plt.ylabel('Accuracy', fontsize = 15)\n",
    "plt.xticks(epochs_range, range(1,epochs+1), fontsize = 12)\n",
    "plt.yticks(fontsize = 12)\n",
    "\n",
    "plt.subplot(1, 2, 2)\n",
    "plt.plot(epochs_range, loss, label='Training Loss', color = 'purple', linewidth = 3)\n",
    "plt.plot(epochs_range, val_loss, label='Validation Loss', color = 'orange', linewidth = 3)\n",
    "plt.legend(loc='upper right', prop={'size': 15})\n",
    "plt.title('Training and Validation Loss', fontsize = 20)\n",
    "plt.xlabel('Epochs', fontsize = 15)\n",
    "plt.ylabel('Loss', fontsize = 15)\n",
    "plt.xticks(epochs_range, range(1,epochs+1), fontsize = 12)\n",
    "plt.yticks(fontsize = 12)\n",
    "plt.show()"
   ]
  },
  {
   "cell_type": "markdown",
   "metadata": {},
   "source": [
    "After running the CNN with 20 epochs with batch sizes of 128, it appears both training and validation accuracy scores converge to higher accuracy percentages, meaning the model is not overfit. Furthermore, the loss score for both training and validation decrease overall as the number of epochs increase. "
   ]
  },
  {
   "cell_type": "code",
   "execution_count": 41,
   "metadata": {},
   "outputs": [
    {
     "name": "stdout",
     "output_type": "stream",
     "text": [
      "Model: \"sequential\"\n",
      "_________________________________________________________________\n",
      "Layer (type)                 Output Shape              Param #   \n",
      "=================================================================\n",
      "conv2d (Conv2D)              (None, 224, 224, 16)      448       \n",
      "_________________________________________________________________\n",
      "max_pooling2d (MaxPooling2D) (None, 112, 112, 16)      0         \n",
      "_________________________________________________________________\n",
      "conv2d_1 (Conv2D)            (None, 112, 112, 32)      4640      \n",
      "_________________________________________________________________\n",
      "max_pooling2d_1 (MaxPooling2 (None, 56, 56, 32)        0         \n",
      "_________________________________________________________________\n",
      "conv2d_2 (Conv2D)            (None, 56, 56, 64)        18496     \n",
      "_________________________________________________________________\n",
      "max_pooling2d_2 (MaxPooling2 (None, 28, 28, 64)        0         \n",
      "_________________________________________________________________\n",
      "flatten (Flatten)            (None, 50176)             0         \n",
      "_________________________________________________________________\n",
      "dense (Dense)                (None, 512)               25690624  \n",
      "_________________________________________________________________\n",
      "dense_1 (Dense)              (None, 1)                 513       \n",
      "=================================================================\n",
      "Total params: 25,714,721\n",
      "Trainable params: 25,714,721\n",
      "Non-trainable params: 0\n",
      "_________________________________________________________________\n"
     ]
    }
   ],
   "source": [
    "model.summary()"
   ]
  },
  {
   "cell_type": "markdown",
   "metadata": {},
   "source": [
    "#### Evaluating the Model - Confusion Matrix\n",
    "To examine how well the model is performing, I will plot a confusion matrix to examine the number of misclassified Type I and Type II errors from the validation/test dataset.\n",
    "\n",
    "[Source](https://medium.com/difference-engine-ai/keras-a-thing-you-should-know-about-keras-if-you-plan-to-train-a-deep-learning-model-on-a-large-fdd63ce66bd2)"
   ]
  },
  {
   "cell_type": "code",
   "execution_count": 109,
   "metadata": {},
   "outputs": [],
   "source": [
    "test_accuracy = model.evaluate_generator(test_data, steps = len(glob.glob('../data/test/*/*.jpeg')))"
   ]
  },
  {
   "cell_type": "markdown",
   "metadata": {},
   "source": [
    "The test accuracy is 86.7%, which is not bad, but could be better!"
   ]
  },
  {
   "cell_type": "code",
   "execution_count": 128,
   "metadata": {},
   "outputs": [
    {
     "data": {
      "text/plain": [
       "0.8671875"
      ]
     },
     "execution_count": 128,
     "metadata": {},
     "output_type": "execute_result"
    }
   ],
   "source": [
    "test_accuracy[1]"
   ]
  },
  {
   "cell_type": "code",
   "execution_count": 132,
   "metadata": {},
   "outputs": [],
   "source": [
    "y_true = test_data.classes"
   ]
  },
  {
   "cell_type": "code",
   "execution_count": 141,
   "metadata": {},
   "outputs": [],
   "source": [
    "y_proba = model.predict_generator(test_data)"
   ]
  },
  {
   "cell_type": "code",
   "execution_count": 150,
   "metadata": {},
   "outputs": [],
   "source": [
    "y_preds = [1 if proba > 0.5 else 0 for proba in y_proba[:,0]]"
   ]
  },
  {
   "cell_type": "code",
   "execution_count": 151,
   "metadata": {},
   "outputs": [
    {
     "data": {
      "text/html": [
       "<div>\n",
       "<style scoped>\n",
       "    .dataframe tbody tr th:only-of-type {\n",
       "        vertical-align: middle;\n",
       "    }\n",
       "\n",
       "    .dataframe tbody tr th {\n",
       "        vertical-align: top;\n",
       "    }\n",
       "\n",
       "    .dataframe thead th {\n",
       "        text-align: right;\n",
       "    }\n",
       "</style>\n",
       "<table border=\"1\" class=\"dataframe\">\n",
       "  <thead>\n",
       "    <tr style=\"text-align: right;\">\n",
       "      <th></th>\n",
       "      <th>pred neg</th>\n",
       "      <th>pred pos</th>\n",
       "    </tr>\n",
       "  </thead>\n",
       "  <tbody>\n",
       "    <tr>\n",
       "      <td>actual neg</td>\n",
       "      <td>True Negative</td>\n",
       "      <td>False Positive</td>\n",
       "    </tr>\n",
       "    <tr>\n",
       "      <td>actual pos</td>\n",
       "      <td>False Negative</td>\n",
       "      <td>True Positive</td>\n",
       "    </tr>\n",
       "  </tbody>\n",
       "</table>\n",
       "</div>"
      ],
      "text/plain": [
       "                  pred neg        pred pos\n",
       "actual neg   True Negative  False Positive\n",
       "actual pos  False Negative   True Positive"
      ]
     },
     "metadata": {},
     "output_type": "display_data"
    },
    {
     "data": {
      "text/html": [
       "<div>\n",
       "<style scoped>\n",
       "    .dataframe tbody tr th:only-of-type {\n",
       "        vertical-align: middle;\n",
       "    }\n",
       "\n",
       "    .dataframe tbody tr th {\n",
       "        vertical-align: top;\n",
       "    }\n",
       "\n",
       "    .dataframe thead th {\n",
       "        text-align: right;\n",
       "    }\n",
       "</style>\n",
       "<table border=\"1\" class=\"dataframe\">\n",
       "  <thead>\n",
       "    <tr style=\"text-align: right;\">\n",
       "      <th></th>\n",
       "      <th>pred neg</th>\n",
       "      <th>pred pos</th>\n",
       "    </tr>\n",
       "  </thead>\n",
       "  <tbody>\n",
       "    <tr>\n",
       "      <td>actual neg</td>\n",
       "      <td>53</td>\n",
       "      <td>189</td>\n",
       "    </tr>\n",
       "    <tr>\n",
       "      <td>actual pos</td>\n",
       "      <td>116</td>\n",
       "      <td>282</td>\n",
       "    </tr>\n",
       "  </tbody>\n",
       "</table>\n",
       "</div>"
      ],
      "text/plain": [
       "            pred neg  pred pos\n",
       "actual neg        53       189\n",
       "actual pos       116       282"
      ]
     },
     "metadata": {},
     "output_type": "display_data"
    }
   ],
   "source": [
    "cm_def = np.array([['True Negative', 'False Positive'],\n",
    "                ['False Negative', 'True Positive']])\n",
    "cm_def = pd.DataFrame(cm_def,columns = ['pred neg', 'pred pos'], index = ['actual neg','actual pos'])\n",
    "\n",
    "\n",
    "cm = confusion_matrix(y_true, y_preds)\n",
    "cm_df = pd.DataFrame(cm, columns = ['pred neg', 'pred pos'], index = ['actual neg','actual pos'])\n",
    "\n",
    "from IPython.display import display\n",
    "display(cm_def)\n",
    "display(cm_df)"
   ]
  },
  {
   "cell_type": "code",
   "execution_count": 155,
   "metadata": {},
   "outputs": [],
   "source": [
    "tn, fp, fn, tp = cm.ravel()\n",
    "precision = tp/(tp+fp)\n",
    "recall = tp/(tp+fn)"
   ]
  },
  {
   "cell_type": "code",
   "execution_count": 161,
   "metadata": {},
   "outputs": [
    {
     "name": "stdout",
     "output_type": "stream",
     "text": [
      "Precision: 59.87%\n",
      "Recall: 70.85%\n"
     ]
    }
   ],
   "source": [
    "print(f'Precision: {round(precision*100,2)}%')\n",
    "print(f'Recall: {round(recall*100, 2)}%')"
   ]
  },
  {
   "cell_type": "markdown",
   "metadata": {},
   "source": [
    "In our simple model, we were able to obtain a precision of 59.87% and recall of 70.85% which can definitely be improved."
   ]
  }
 ],
 "metadata": {
  "kernelspec": {
   "display_name": "Python 3",
   "language": "python",
   "name": "python3"
  },
  "language_info": {
   "codemirror_mode": {
    "name": "ipython",
    "version": 3
   },
   "file_extension": ".py",
   "mimetype": "text/x-python",
   "name": "python",
   "nbconvert_exporter": "python",
   "pygments_lexer": "ipython3",
   "version": "3.7.4"
  }
 },
 "nbformat": 4,
 "nbformat_minor": 4
}
